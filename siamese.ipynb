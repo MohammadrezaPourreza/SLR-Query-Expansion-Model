{
  "cells": [
    {
      "cell_type": "code",
      "execution_count": 1,
      "metadata": {
        "id": "iZvwae1MfUOk"
      },
      "outputs": [],
      "source": [
        "import pandas as pd\r\n",
        "import numpy as np\r\n",
        "import tensorflow as tf\r\n",
        "from tensorflow.keras.layers import Dense, Dropout, Input\r\n",
        "from tensorflow.keras.layers import Conv1D, GlobalMaxPooling1D, MaxPooling1D, Subtract, Dot\r\n",
        "from tensorflow.keras.models import Model\r\n",
        "from data_preparation import create_dataset, get_size\r\n",
        "import math\r\n"
      ]
    },
    {
      "cell_type": "markdown",
      "metadata": {},
      "source": [
        "## Loading Data\r\n",
        "First, we need to load the data. Our X file contains word embedding of a query. all queries are resized to contain 42 phrases (shorter queries are zero-padded - this 42 is not a good size, most of queries are padded more than there is phrases), and each phrase is represented by a 200 dim embedding. so our X's are `dataset_size * 42 * 200` vectors.\r\n",
        "\r\n",
        "`Y` is indicating whether this vector was a `bad`, `neutral` or `good` query. So it is of size `3`\r\n",
        "\r\n",
        "Download data files from [here](https://drive.google.com/drive/folders/18iHWo-gI4_IpNk7bkqvcbWGGDMQkLlVN?usp=sharing)"
      ]
    },
    {
      "cell_type": "code",
      "execution_count": 3,
      "metadata": {},
      "outputs": [
        {
          "name": "stdout",
          "output_type": "stream",
          "text": [
            "<ConcatenateDataset shapes: (((42, 200), (42, 200)), ()), types: ((tf.float64, tf.float64), tf.int32)>\n",
            "70507\n"
          ]
        }
      ],
      "source": [
        "\r\n",
        "X = np.load('./dataset/train/x.npy', mmap_mode='r')\r\n",
        "Y = np.load('./dataset/train/y.npy', mmap_mode='r')\r\n",
        "\r\n",
        "# if set to True, labels will be in one-hot encodded format and output of neural network will be a 2 neuron dense layer with softmax activation to match it\r\n",
        "ONE_HOT=False \r\n",
        "dataset = create_dataset((X,Y.argmax(axis=1)), [0,1,2], one_hot=ONE_HOT)\r\n",
        "DATASET_SIZE = get_size(dataset)\r\n",
        "# def convert(ds):\r\n",
        "#     return {'input_1': ds[0], 'input_2': ds[1]}, ds[2]\r\n",
        "# dataset = dataset.apply(convert)\r\n",
        "# print_size(dataset)\r\n",
        "print(dataset)\r\n",
        "print(DATASET_SIZE)\r\n",
        "# tfds.benchmark(dataset)"
      ]
    },
    {
      "cell_type": "markdown",
      "metadata": {},
      "source": [
        "## Siamese Network\r\n",
        "`Siamese Network` are usually used for one-shot classification, or comparing instances of data in computer vision. There are two sister network in them which works as a feature extraction phase. The network is fed two (or more) instances of data, let's say `x1` and `x2`. These two inputs go through the same network (on of the 'sisters') and the result of them are then subtracted (or any other function, like euclidean distance or whatever else) and the output of this subtraction layer is given to a dense network to decide whether they are of the same class. For example one of the main uses of siamese networks are in face recognition when you want to find similarity between your faces.\r\n",
        "![alt text](.\\img\\capture.PNG  \"Siamese Network\")\r\n",
        "\r\n",
        "Here we first create our sister networks using Conv1D, then subtract the result of these two `feature extractors` and give the subtraction result to a dense layer to learn if they are similar or not."
      ]
    },
    {
      "cell_type": "code",
      "execution_count": 4,
      "metadata": {},
      "outputs": [
        {
          "name": "stdout",
          "output_type": "stream",
          "text": [
            "Model: \"model_1\"\n",
            "_________________________________________________________________\n",
            "Layer (type)                 Output Shape              Param #   \n",
            "=================================================================\n",
            "input_2 (InputLayer)         [(None, 42, 200)]         0         \n",
            "_________________________________________________________________\n",
            "conv1d_2 (Conv1D)            (None, 38, 256)           256256    \n",
            "_________________________________________________________________\n",
            "dropout_2 (Dropout)          (None, 38, 256)           0         \n",
            "_________________________________________________________________\n",
            "max_pooling1d_2 (MaxPooling1 (None, 12, 256)           0         \n",
            "_________________________________________________________________\n",
            "conv1d_3 (Conv1D)            (None, 10, 256)           196864    \n",
            "_________________________________________________________________\n",
            "dropout_3 (Dropout)          (None, 10, 256)           0         \n",
            "_________________________________________________________________\n",
            "max_pooling1d_3 (MaxPooling1 (None, 3, 256)            0         \n",
            "_________________________________________________________________\n",
            "global_max_pooling1d_1 (Glob (None, 256)               0         \n",
            "_________________________________________________________________\n",
            "dense_4 (Dense)              (None, 256)               65792     \n",
            "_________________________________________________________________\n",
            "dense_5 (Dense)              (None, 64)                16448     \n",
            "=================================================================\n",
            "Total params: 535,360\n",
            "Trainable params: 535,360\n",
            "Non-trainable params: 0\n",
            "_________________________________________________________________\n",
            "Model: \"model\"\n",
            "__________________________________________________________________________________________________\n",
            "Layer (type)                    Output Shape         Param #     Connected to                     \n",
            "==================================================================================================\n",
            "input_1 (InputLayer)            [(None, 42, 200)]    0                                            \n",
            "__________________________________________________________________________________________________\n",
            "input_2 (InputLayer)            [(None, 42, 200)]    0                                            \n",
            "__________________________________________________________________________________________________\n",
            "model_1 (Functional)            (None, 64)           535360      input_1[0][0]                    \n",
            "                                                                 input_2[0][0]                    \n",
            "__________________________________________________________________________________________________\n",
            "dot_1 (Dot)                     (None, 1)            0           model_1[0][0]                    \n",
            "                                                                 model_1[1][0]                    \n",
            "__________________________________________________________________________________________________\n",
            "dense_6 (Dense)                 (None, 32)           64          dot_1[0][0]                      \n",
            "__________________________________________________________________________________________________\n",
            "dense_7 (Dense)                 (None, 1)            33          dense_6[0][0]                    \n",
            "==================================================================================================\n",
            "Total params: 535,457\n",
            "Trainable params: 535,457\n",
            "Non-trainable params: 0\n",
            "__________________________________________________________________________________________________\n"
          ]
        }
      ],
      "source": [
        "\r\n",
        "def build_siamese_model(inputShape, output_shape = 64):\r\n",
        "    regulizer =tf.keras.regularizers.l2( l=0.01)\r\n",
        "    input = Input(shape=inputShape)\r\n",
        "    text_layer = Conv1D(256, 5, activation='relu', kernel_regularizer=regulizer)(input)\r\n",
        "    text_layer = Dropout(0.2)(text_layer)\r\n",
        "    text_layer = MaxPooling1D(3)(text_layer)\r\n",
        "    text_layer = Conv1D(256, 3, activation='relu',kernel_regularizer=regulizer)(text_layer)\r\n",
        "    text_layer = Dropout(0.2)(text_layer)\r\n",
        "    text_layer = MaxPooling1D(3)(text_layer)\r\n",
        "    text_layer = GlobalMaxPooling1D()(text_layer)\r\n",
        "    text_layer = Dense(256, activation='relu')(text_layer)\r\n",
        "    output_layer = Dense(output_shape, activation='relu')(text_layer)\r\n",
        "    model = Model(input, output_layer)\r\n",
        "    model.summary()\r\n",
        "    return model\r\n",
        "input_shape = X.shape[1:]\r\n",
        "txtA = Input(shape=input_shape, name='input_1')\r\n",
        "txtB = Input(shape=input_shape, name='input_2')\r\n",
        "featureExtractor  = build_siamese_model(input_shape)\r\n",
        "featsA = featureExtractor(txtA)\r\n",
        "featsB = featureExtractor(txtB)\r\n",
        "distance = Subtract()([featsA, featsB])\r\n",
        "distance = Dot(axes=(1,1), normalize=True)([featsA, featsB])\r\n",
        "distance = Dense(32, activation=\"relu\")(distance)\r\n",
        "if ONE_HOT:\r\n",
        "    outputs = Dense(2, activation=\"softmax\")(distance)\r\n",
        "else:\r\n",
        "    outputs = Dense(1, activation='sigmoid')(distance)\r\n",
        "model = Model(name= 'model',inputs=(txtA, txtB), outputs=outputs)\r\n",
        "model.summary()\r\n"
      ]
    },
    {
      "cell_type": "code",
      "execution_count": 5,
      "metadata": {
        "id": "novnKM-FWGH2"
      },
      "outputs": [],
      "source": [
        "def fit_model(model, ds, val_split = 0.1,batch_size = 128, **kwargs):\r\n",
        "  optimizers = tf.keras.optimizers.SGD(\r\n",
        "    learning_rate=0.005, momentum=0.0, nesterov=False, name=\"SGD\"\r\n",
        "  )\r\n",
        "  model.compile(optimizer=optimizers,\r\n",
        "              loss='binary_crossentropy',\r\n",
        "              metrics=['acc'])\r\n",
        "  ds = ds.shuffle(batch_size).repeat()\r\n",
        "  val_size = round(val_split * DATASET_SIZE)\r\n",
        "  train_size = round((1 - val_split) * DATASET_SIZE)\r\n",
        "  val_ds = ds.take(val_size).shuffle(batch_size * 2).batch(min(val_size, BATCH_SIZE))\r\n",
        "  train_ds = ds.skip(val_size).batch(batch_size)\r\n",
        "  train_steps = math.ceil(train_size // batch_size)\r\n",
        "  val_step = max(val_size // batch_size, 1)\r\n",
        "  return model.fit(train_ds, steps_per_epoch=train_steps ,validation_data=val_ds,validation_steps=val_step,**kwargs)\r\n"
      ]
    },
    {
      "cell_type": "code",
      "execution_count": 6,
      "metadata": {
        "colab": {
          "base_uri": "https://localhost:8080/"
        },
        "id": "87OTZcMwZSdl",
        "outputId": "54cb4983-b1eb-4d02-aaff-bf5dd1d13991"
      },
      "outputs": [
        {
          "name": "stdout",
          "output_type": "stream",
          "text": [
            "Epoch 1/20\n",
            "1762/1762 [==============================] - 310s 165ms/step - loss: 3.9319 - acc: 0.8090 - val_loss: 3.6845 - val_acc: 0.3215\n",
            "Epoch 2/20\n",
            "1762/1762 [==============================] - 250s 142ms/step - loss: 3.0387 - acc: 0.8039 - val_loss: 2.8965 - val_acc: 0.6785\n",
            "Epoch 3/20\n",
            "1762/1762 [==============================] - 256s 146ms/step - loss: 2.0610 - acc: 0.7998 - val_loss: 2.3693 - val_acc: 0.3215\n",
            "Epoch 4/20\n",
            "1762/1762 [==============================] - 268s 152ms/step - loss: 1.2851 - acc: 0.7765 - val_loss: 1.4033 - val_acc: 0.3215\n",
            "Epoch 5/20\n",
            "1762/1762 [==============================] - 270s 153ms/step - loss: 0.8813 - acc: 0.7815 - val_loss: 1.3045 - val_acc: 0.3215\n",
            "Epoch 6/20\n",
            "1762/1762 [==============================] - 275s 156ms/step - loss: 0.6314 - acc: 0.8203 - val_loss: 1.6193 - val_acc: 0.3215\n",
            "Epoch 7/20\n",
            "1762/1762 [==============================] - 275s 156ms/step - loss: 0.6286 - acc: 0.7527 - val_loss: 0.7477 - val_acc: 0.6785\n",
            "Epoch 8/20\n",
            "1762/1762 [==============================] - 276s 156ms/step - loss: 0.5279 - acc: 0.7939 - val_loss: 1.2803 - val_acc: 0.3215\n",
            "Epoch 9/20\n",
            "1762/1762 [==============================] - 282s 160ms/step - loss: 0.5280 - acc: 0.7738 - val_loss: 0.9206 - val_acc: 0.3215\n",
            "Epoch 10/20\n",
            "1762/1762 [==============================] - 281s 159ms/step - loss: 0.5156 - acc: 0.7717 - val_loss: 1.0183 - val_acc: 0.3215\n",
            "Epoch 11/20\n",
            "1762/1762 [==============================] - 284s 161ms/step - loss: 0.4535 - acc: 0.8155 - val_loss: 1.4638 - val_acc: 0.3215\n",
            "Epoch 12/20\n",
            "1762/1762 [==============================] - 280s 159ms/step - loss: 0.5456 - acc: 0.7458 - val_loss: 0.6652 - val_acc: 0.6785\n",
            "Epoch 13/20\n",
            "1762/1762 [==============================] - 285s 162ms/step - loss: 0.4907 - acc: 0.7881 - val_loss: 1.2211 - val_acc: 0.3215\n",
            "Epoch 14/20\n",
            "1762/1762 [==============================] - 285s 162ms/step - loss: 0.5107 - acc: 0.7703 - val_loss: 0.9430 - val_acc: 0.3215\n",
            "Epoch 15/20\n",
            "1762/1762 [==============================] - 286s 162ms/step - loss: 0.5159 - acc: 0.7632 - val_loss: 0.9836 - val_acc: 0.3215\n",
            "Epoch 16/20\n",
            "1762/1762 [==============================] - 287s 163ms/step - loss: 0.4565 - acc: 0.8096 - val_loss: 1.4326 - val_acc: 0.3215\n",
            "Epoch 17/20\n",
            "1762/1762 [==============================] - 280s 159ms/step - loss: 0.5520 - acc: 0.7378 - val_loss: 0.6472 - val_acc: 0.6785\n",
            "Epoch 18/20\n",
            "1762/1762 [==============================] - 286s 162ms/step - loss: 0.4978 - acc: 0.7824 - val_loss: 1.1922 - val_acc: 0.3215\n",
            "Epoch 19/20\n",
            "1762/1762 [==============================] - 282s 160ms/step - loss: 0.5151 - acc: 0.7674 - val_loss: 0.9756 - val_acc: 0.3215\n",
            "Epoch 20/20\n",
            "1762/1762 [==============================] - 284s 161ms/step - loss: 0.5273 - acc: 0.7529 - val_loss: 0.9566 - val_acc: 0.3215\n"
          ]
        }
      ],
      "source": [
        "BATCH_SIZE = 32\r\n",
        "\r\n",
        "history = fit_model(model, dataset, val_split=0.2, epochs=20, batch_size=BATCH_SIZE)"
      ]
    },
    {
      "cell_type": "code",
      "execution_count": 9,
      "metadata": {
        "id": "mmVCBfIiYldH"
      },
      "outputs": [
        {
          "data": {
            "text/plain": [
              "<matplotlib.legend.Legend at 0x121a96e9f40>"
            ]
          },
          "execution_count": 9,
          "metadata": {},
          "output_type": "execute_result"
        },
        {
          "data": {
            "image/png": "[encoded data removed]",
            "text/plain": [
              "<Figure size 432x288 with 1 Axes>"
            ]
          },
          "metadata": {
            "needs_background": "light"
          },
          "output_type": "display_data"
        }
      ],
      "source": [
        "import matplotlib.pyplot as plt\n",
        "plt.plot(history.history['acc'])\n",
        "plt.plot(history.history['val_acc'])\n",
        "plt.legend(['accuracy','validation accuracy'])"
      ]
    },
    {
      "cell_type": "code",
      "execution_count": null,
      "metadata": {
        "id": "FJlHIF40oqA1"
      },
      "outputs": [],
      "source": [
        "# from sklearn.metrics import confusion_matrix\r\n",
        "# import seaborn as sn\r\n",
        "# from sklearn.metrics import ConfusionMatrixDisplay\r\n",
        "\r\n",
        "# y_pred = model.predict(X_t)\r\n",
        "# y_pred\r\n",
        "# cm = confusion_matrix(Y_t.argmax(axis=1), y_pred.argmax(axis=1))\r\n",
        "\r\n",
        "# display_labels = ['Bad', 'Neutral', 'Good']\r\n",
        "# df_cm = pd.DataFrame(cm,index=display_labels, columns=display_labels)\r\n",
        "\r\n",
        "# # plt.figure(figsize=(10,7))\r\n",
        "# sn.set(font_scale=1.4) # for label size\r\n",
        "# sn.heatmap(df_cm, annot=True, annot_kws={\"size\": 16}, fmt='g') # font size\r\n",
        "# plt.figure(figsize = (15,12))\r\n",
        "\r\n",
        "# # disp = ConfusionMatrixDisplay(confusion_matrix=cm,\r\n",
        "#                               # display_labels=display_labels)\r\n",
        "# # disp = disp.plot(include_values=True,\r\n",
        "#                 #  cmap='viridis', ax=None, xticks_rotation='horizontal')\r\n",
        "# plt.show()\r\n",
        "# # print('recall', tp / (tp + fn))\r\n",
        "# # print('precision', tp / (tp + fp))\r\n",
        "# # print('acc', tp + tn / (tp + tn + fp + fn))"
      ]
    },
    {
      "cell_type": "code",
      "execution_count": null,
      "metadata": {
        "id": "jp3E6Jw-vCEI"
      },
      "outputs": [],
      "source": [
        "model.save('/content/drive/MyDrive/Uni/Thesis/query_formulation_deepnn/models/simple_cnn_model')"
      ]
    }
  ],
  "metadata": {
    "colab": {
      "collapsed_sections": [],
      "name": "siamese.ipynb",
      "provenance": []
    },
    "interpreter": {
      "hash": "260b7e5275ddedc5d18d3826b902da136406e4b4551e3d8d9e35a2664b7ffb0c"
    },
    "kernelspec": {
      "display_name": "Python 3.9.4 64-bit",
      "name": "python3"
    },
    "language_info": {
      "name": "python",
      "version": ""
    },
    "metadata": {
      "interpreter": {
        "hash": "916dbcbb3f70747c44a77c7bcd40155683ae19c65e1c03b4aa3499c5328201f1"
      }
    }
  },
  "nbformat": 4,
  "nbformat_minor": 0
}