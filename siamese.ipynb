{
  "cells": [
    {
      "cell_type": "code",
      "execution_count": 11,
      "metadata": {
        "id": "iZvwae1MfUOk"
      },
      "outputs": [],
      "source": [
        "import pandas as pd\r\n",
        "import numpy as np\r\n",
        "import tensorflow as tf\r\n",
        "from tensorflow.keras.layers import Dense, Dropout, Input\r\n",
        "from tensorflow.keras.layers import Conv1D, GlobalMaxPooling1D, MaxPooling1D, Subtract, Dot\r\n",
        "from tensorflow.keras.models import Model\r\n",
        "from data_preparation import create_dataset, get_size\r\n",
        "import math\r\n"
      ]
    },
    {
      "cell_type": "markdown",
      "metadata": {},
      "source": [
        "## Loading Data\r\n",
        "First, we need to load the data. Our X file contains word embedding of a query. all queries are resized to contain 21 phrases, and each phrase is represented by a 200 dim embedding. so our X's are `dataset_size * 21 * 200` vectors.\r\n",
        "\r\n",
        "`Y` is indicating whether this vector was a `bad`, `neutral` or `good` query. So it is of size `3`\r\n",
        "\r\n",
        "Download data files from [here](https://drive.google.com/drive/folders/18iHWo-gI4_IpNk7bkqvcbWGGDMQkLlVN?usp=sharing)"
      ]
    },
    {
      "cell_type": "code",
      "execution_count": 23,
      "metadata": {},
      "outputs": [
        {
          "name": "stdout",
          "output_type": "stream",
          "text": [
            "<ConcatenateDataset shapes: (((21, 200), (21, 200)), ()), types: ((tf.float64, tf.float64), tf.int32)>\n",
            "70773\n"
          ]
        }
      ],
      "source": [
        "\r\n",
        "X = np.load('./dataset/train/x.npy', mmap_mode='r')\r\n",
        "Y = np.load('./dataset/train/y.npy', mmap_mode='r')\r\n",
        "\r\n",
        "# if set to True, labels will be in one-hot encodded format and output of neural network will be a 2 neuron dense layer with softmax activation to match it\r\n",
        "ONE_HOT=False \r\n",
        "dataset = create_dataset((X,Y.argmax(axis=1)), [0,1,2], one_hot=ONE_HOT)\r\n",
        "DATASET_SIZE = get_size(dataset)\r\n",
        "# def convert(ds):\r\n",
        "#     return {'input_1': ds[0], 'input_2': ds[1]}, ds[2]\r\n",
        "# dataset = dataset.apply(convert)\r\n",
        "# print_size(dataset)\r\n",
        "print(dataset)\r\n",
        "print(DATASET_SIZE)\r\n",
        "# tfds.benchmark(dataset)"
      ]
    },
    {
      "cell_type": "markdown",
      "metadata": {},
      "source": [
        "## Siamese Network\r\n",
        "`Siamese Network` are usually used for one-shot classification, or comparing instances of data in computer vision. There are two sister network in them which works as a feature extraction phase. The network is fed two (or more) instances of data, let's say `x1` and `x2`. These two inputs go through the same network (on of the 'sisters') and the result of them are then subtracted (or any other function, like euclidean distance or whatever else) and the output of this subtraction layer is given to a dense network to decide whether they are of the same class. For example one of the main uses of siamese networks are in face recognition when you want to find similarity between your faces.\r\n",
        "<img src=\"img/capture.png\">\r\n",
        "Here we first create our sister networks using Conv1D, then subtract the result of these two `feature extractors` and give the subtraction result to a dense layer to learn if they are similar or not."
      ]
    },
    {
      "cell_type": "code",
      "execution_count": 18,
      "metadata": {},
      "outputs": [
        {
          "name": "stdout",
          "output_type": "stream",
          "text": [
            "Model: \"model_3\"\n",
            "_________________________________________________________________\n",
            "Layer (type)                 Output Shape              Param #   \n",
            "=================================================================\n",
            "input_5 (InputLayer)         [(None, 21, 200)]         0         \n",
            "_________________________________________________________________\n",
            "conv1d_8 (Conv1D)            (None, 17, 256)           256256    \n",
            "_________________________________________________________________\n",
            "max_pooling1d_8 (MaxPooling1 (None, 5, 256)            0         \n",
            "_________________________________________________________________\n",
            "dropout_5 (Dropout)          (None, 5, 256)            0         \n",
            "_________________________________________________________________\n",
            "conv1d_9 (Conv1D)            (None, 3, 256)            196864    \n",
            "_________________________________________________________________\n",
            "max_pooling1d_9 (MaxPooling1 (None, 1, 256)            0         \n",
            "_________________________________________________________________\n",
            "dropout_6 (Dropout)          (None, 1, 256)            0         \n",
            "_________________________________________________________________\n",
            "global_max_pooling1d_3 (Glob (None, 256)               0         \n",
            "_________________________________________________________________\n",
            "dense_12 (Dense)             (None, 256)               65792     \n",
            "_________________________________________________________________\n",
            "dense_13 (Dense)             (None, 64)                16448     \n",
            "=================================================================\n",
            "Total params: 535,360\n",
            "Trainable params: 535,360\n",
            "Non-trainable params: 0\n",
            "_________________________________________________________________\n",
            "Model: \"model\"\n",
            "__________________________________________________________________________________________________\n",
            "Layer (type)                    Output Shape         Param #     Connected to                     \n",
            "==================================================================================================\n",
            "input_1 (InputLayer)            [(None, 21, 200)]    0                                            \n",
            "__________________________________________________________________________________________________\n",
            "input_2 (InputLayer)            [(None, 21, 200)]    0                                            \n",
            "__________________________________________________________________________________________________\n",
            "model_3 (Functional)            (None, 64)           535360      input_1[0][0]                    \n",
            "                                                                 input_2[0][0]                    \n",
            "__________________________________________________________________________________________________\n",
            "subtract_3 (Subtract)           (None, 64)           0           model_3[0][0]                    \n",
            "                                                                 model_3[1][0]                    \n",
            "__________________________________________________________________________________________________\n",
            "dense_14 (Dense)                (None, 32)           2080        subtract_3[0][0]                 \n",
            "__________________________________________________________________________________________________\n",
            "dense_15 (Dense)                (None, 1)            33          dense_14[0][0]                   \n",
            "==================================================================================================\n",
            "Total params: 537,473\n",
            "Trainable params: 537,473\n",
            "Non-trainable params: 0\n",
            "__________________________________________________________________________________________________\n"
          ]
        }
      ],
      "source": [
        "\r\n",
        "def build_siamese_model(inputShape, output_shape = 64):\r\n",
        "    regulizer =tf.keras.regularizers.l2( l=0.01)\r\n",
        "    input = Input(shape=inputShape)\r\n",
        "    text_layer = Conv1D(256, 5, activation='relu', kernel_regularizer=regulizer)(input)\r\n",
        "    text_layer = MaxPooling1D(3)(text_layer)\r\n",
        "    text_layer = Dropout(0.2)(text_layer)\r\n",
        "    text_layer = Conv1D(256, 3, activation='relu',kernel_regularizer=regulizer)(text_layer)\r\n",
        "    text_layer = MaxPooling1D(3)(text_layer)\r\n",
        "    text_layer = Dropout(0.2)(text_layer)\r\n",
        "    text_layer = GlobalMaxPooling1D()(text_layer)\r\n",
        "    text_layer = Dense(256, activation='relu')(text_layer)\r\n",
        "    output_layer = Dense(output_shape, activation='relu')(text_layer)\r\n",
        "    model = Model(input, output_layer)\r\n",
        "    model.summary()\r\n",
        "    return model\r\n",
        "input_shape = X.shape[1:]\r\n",
        "txtA = Input(shape=input_shape, name='input_1')\r\n",
        "txtB = Input(shape=input_shape, name='input_2')\r\n",
        "featureExtractor  = build_siamese_model(input_shape)\r\n",
        "featsA = featureExtractor(txtA)\r\n",
        "featsB = featureExtractor(txtB)\r\n",
        "distance = Subtract()([featsA, featsB])\r\n",
        "# distance = Dot(axes=(1,1), normalize=True)([featsA, featsB])\r\n",
        "distance = Dense(32, activation=\"relu\")(distance)\r\n",
        "if ONE_HOT:\r\n",
        "    outputs = Dense(2, activation=\"softmax\")(distance)\r\n",
        "else:\r\n",
        "    outputs = Dense(1, activation='sigmoid')(distance)\r\n",
        "model = Model(name= 'model',inputs=(txtA, txtB), outputs=outputs)\r\n",
        "model.summary()\r\n"
      ]
    },
    {
      "cell_type": "code",
      "execution_count": 19,
      "metadata": {
        "id": "novnKM-FWGH2"
      },
      "outputs": [],
      "source": [
        "def fit_model(model, ds, val_split = 0.1,batch_size = 128, **kwargs):\r\n",
        "  optimizers = tf.keras.optimizers.SGD(\r\n",
        "    learning_rate=0.01, momentum=0.0, nesterov=False, name=\"SGD\"\r\n",
        "  )\r\n",
        "  model.compile(optimizer=optimizers,\r\n",
        "              loss='binary_crossentropy',\r\n",
        "              metrics=['acc'])\r\n",
        "  ds = ds.shuffle(2048).repeat()\r\n",
        "  val_size = round(val_split * DATASET_SIZE)\r\n",
        "  train_size = round((1 - val_split) * DATASET_SIZE)\r\n",
        "  val_ds = ds.take(val_size).batch(min(val_size, BATCH_SIZE))\r\n",
        "  train_ds = ds.skip(val_size).batch(batch_size)\r\n",
        "  train_steps = math.ceil(train_size // batch_size)\r\n",
        "  val_step = max(val_size // batch_size, 1)\r\n",
        "  return model.fit(train_ds, steps_per_epoch=train_steps ,validation_data=val_ds,validation_steps=val_step,**kwargs)\r\n"
      ]
    },
    {
      "cell_type": "code",
      "execution_count": 20,
      "metadata": {
        "colab": {
          "base_uri": "https://localhost:8080/"
        },
        "id": "87OTZcMwZSdl",
        "outputId": "54cb4983-b1eb-4d02-aaff-bf5dd1d13991"
      },
      "outputs": [
        {
          "name": "stdout",
          "output_type": "stream",
          "text": [
            "Epoch 1/10\n",
            "884/884 [==============================] - 240s 209ms/step - loss: 4.5441 - acc: 0.7517 - val_loss: 4.8466 - val_acc: 0.3001\n",
            "Epoch 2/10\n",
            "884/884 [==============================] - 172s 194ms/step - loss: 3.3477 - acc: 0.7809 - val_loss: 2.9377 - val_acc: 0.7716\n",
            "Epoch 3/10\n",
            "884/884 [==============================] - 167s 189ms/step - loss: 2.3699 - acc: 0.8563 - val_loss: 2.7781 - val_acc: 0.7163\n",
            "Epoch 4/10\n",
            "884/884 [==============================] - 208s 235ms/step - loss: 1.7251 - acc: 0.8930 - val_loss: 1.7271 - val_acc: 0.7630\n",
            "Epoch 5/10\n",
            "884/884 [==============================] - 227s 257ms/step - loss: 1.3444 - acc: 0.8702 - val_loss: 1.7167 - val_acc: 0.7511\n",
            "Epoch 6/10\n",
            "884/884 [==============================] - 252s 285ms/step - loss: 0.9565 - acc: 0.9134 - val_loss: 2.7824 - val_acc: 0.6545\n",
            "Epoch 7/10\n",
            "884/884 [==============================] - 359s 407ms/step - loss: 0.8639 - acc: 0.8729 - val_loss: 1.0503 - val_acc: 0.7509\n",
            "Epoch 8/10\n",
            "884/884 [==============================] - 367s 415ms/step - loss: 0.6599 - acc: 0.8889 - val_loss: 1.6127 - val_acc: 0.7322\n",
            "Epoch 9/10\n",
            "884/884 [==============================] - 301s 341ms/step - loss: 0.5925 - acc: 0.8698 - val_loss: 0.7622 - val_acc: 0.7258\n",
            "Epoch 10/10\n",
            "884/884 [==============================] - 175s 198ms/step - loss: 0.4982 - acc: 0.8888 - val_loss: 1.0763 - val_acc: 0.7653\n"
          ]
        }
      ],
      "source": [
        "BATCH_SIZE = 64\r\n",
        "\r\n",
        "history = fit_model(model, dataset, val_split=0.2, epochs=10, batch_size=BATCH_SIZE)"
      ]
    },
    {
      "cell_type": "code",
      "execution_count": 21,
      "metadata": {
        "id": "mmVCBfIiYldH"
      },
      "outputs": [
        {
          "data": {
            "text/plain": [
              "<matplotlib.legend.Legend at 0x294e2f859a0>"
            ]
          },
          "execution_count": 21,
          "metadata": {},
          "output_type": "execute_result"
        },
        {
          "data": {
            "image/png": "[encoded data removed]",
            "text/plain": [
              "<Figure size 432x288 with 1 Axes>"
            ]
          },
          "metadata": {
            "needs_background": "light"
          },
          "output_type": "display_data"
        }
      ],
      "source": [
        "import matplotlib.pyplot as plt\n",
        "plt.plot(history.history['acc'])\n",
        "plt.plot(history.history['val_acc'])\n",
        "plt.legend(['accuracy','validation accuracy'])"
      ]
    },
    {
      "cell_type": "code",
      "execution_count": null,
      "metadata": {
        "id": "FJlHIF40oqA1"
      },
      "outputs": [],
      "source": [
        "# from sklearn.metrics import confusion_matrix\r\n",
        "# import seaborn as sn\r\n",
        "# from sklearn.metrics import ConfusionMatrixDisplay\r\n",
        "\r\n",
        "# y_pred = model.predict(X_t)\r\n",
        "# y_pred\r\n",
        "# cm = confusion_matrix(Y_t.argmax(axis=1), y_pred.argmax(axis=1))\r\n",
        "\r\n",
        "# display_labels = ['Bad', 'Neutral', 'Good']\r\n",
        "# df_cm = pd.DataFrame(cm,index=display_labels, columns=display_labels)\r\n",
        "\r\n",
        "# # plt.figure(figsize=(10,7))\r\n",
        "# sn.set(font_scale=1.4) # for label size\r\n",
        "# sn.heatmap(df_cm, annot=True, annot_kws={\"size\": 16}, fmt='g') # font size\r\n",
        "# plt.figure(figsize = (15,12))\r\n",
        "\r\n",
        "# # disp = ConfusionMatrixDisplay(confusion_matrix=cm,\r\n",
        "#                               # display_labels=display_labels)\r\n",
        "# # disp = disp.plot(include_values=True,\r\n",
        "#                 #  cmap='viridis', ax=None, xticks_rotation='horizontal')\r\n",
        "# plt.show()\r\n",
        "# # print('recall', tp / (tp + fn))\r\n",
        "# # print('precision', tp / (tp + fp))\r\n",
        "# # print('acc', tp + tn / (tp + tn + fp + fn))"
      ]
    },
    {
      "cell_type": "code",
      "execution_count": 22,
      "metadata": {
        "id": "jp3E6Jw-vCEI"
      },
      "outputs": [
        {
          "name": "stderr",
          "output_type": "stream",
          "text": [
            "C:\\Users\\Hamid\\AppData\\Local\\Programs\\Python\\Python39\\lib\\site-packages\\tensorflow\\python\\keras\\utils\\generic_utils.py:494: CustomMaskWarning: Custom mask layers require a config and must override get_config. When loading, the custom mask layer must be passed to the custom_objects argument.\n",
            "  warnings.warn('Custom mask layers require a config and must override '\n"
          ]
        },
        {
          "name": "stdout",
          "output_type": "stream",
          "text": [
            "INFO:tensorflow:Assets written to: models/siamese_nework\\assets\n"
          ]
        }
      ],
      "source": [
        "model.save('models/siamese_nework')"
      ]
    }
  ],
  "metadata": {
    "colab": {
      "collapsed_sections": [],
      "name": "siamese.ipynb",
      "provenance": []
    },
    "interpreter": {
      "hash": "260b7e5275ddedc5d18d3826b902da136406e4b4551e3d8d9e35a2664b7ffb0c"
    },
    "kernelspec": {
      "display_name": "Python 3.9.4 64-bit",
      "name": "python3"
    },
    "language_info": {
      "codemirror_mode": {
        "name": "ipython",
        "version": 3
      },
      "file_extension": ".py",
      "mimetype": "text/x-python",
      "name": "python",
      "nbconvert_exporter": "python",
      "pygments_lexer": "ipython3",
      "version": "3.9.4"
    },
    "metadata": {
      "interpreter": {
        "hash": "916dbcbb3f70747c44a77c7bcd40155683ae19c65e1c03b4aa3499c5328201f1"
      }
    }
  },
  "nbformat": 4,
  "nbformat_minor": 0
}